{
 "cells": [
  {
   "cell_type": "code",
   "execution_count": 1,
   "metadata": {},
   "outputs": [],
   "source": [
    "# This Python 3 environment comes with many helpful analytics libraries installed\n",
    "# It is defined by the kaggle/python Docker image: https://github.com/kaggle/docker-python\n",
    "# For example, here's several helpful packages to load\n",
    "\n",
    "import numpy as np # linear algebra\n",
    "import pandas as pd # data processing, CSV file I/O (e.g. pd.read_csv)\n",
    "import cv2 # import cv2"
   ]
  },
  {
   "cell_type": "code",
   "execution_count": 2,
   "metadata": {},
   "outputs": [
    {
     "name": "stdout",
     "output_type": "stream",
     "text": [
      "['chest_xray']\n"
     ]
    }
   ],
   "source": [
    "import os\n",
    "print(os.listdir(\"C:/Users/chand/Desktop/major project/17810_23812_bundle_archive\"))"
   ]
  },
  {
   "cell_type": "code",
   "execution_count": 3,
   "metadata": {},
   "outputs": [
    {
     "name": "stdout",
     "output_type": "stream",
     "text": [
      "['chest_xray', 'images', 'test', 'train', 'val', '__MACOSX']\n"
     ]
    }
   ],
   "source": [
    "DIR = os.listdir('C:/Users/chand/Desktop/major project/17810_23812_bundle_archive/chest_xray')\n",
    "print(DIR)"
   ]
  },
  {
   "cell_type": "code",
   "execution_count": 4,
   "metadata": {},
   "outputs": [],
   "source": [
    "train_folder = 'C:/Users/chand/Desktop/major project/17810_23812_bundle_archive/chest_xray/train'\n",
    "test_folder = 'C:/Users/chand/Desktop/major project/17810_23812_bundle_archive/chest_xray/test'\n",
    "val_folder = 'C:/Users/chand/Desktop/major project/17810_23812_bundle_archive/chest_xray/val'\n"
   ]
  },
  {
   "cell_type": "code",
   "execution_count": 5,
   "metadata": {},
   "outputs": [],
   "source": [
    "import matplotlib.pyplot as plt\n",
    "import seaborn as sns\n",
    "from PIL import Image\n",
    "import random"
   ]
  },
  {
   "cell_type": "code",
   "execution_count": 6,
   "metadata": {},
   "outputs": [],
   "source": [
    "labels = [\"NORMAL\", \"PNEUMONIA\"] # each folder has two sub folder name \"PNEUMONIA\", \"NORMAL\"\n",
    "IMG_SIZE = 50 # resize image\n",
    "data = []\n",
    "def get_data_train(data_dir):\n",
    "    for label in labels:\n",
    "        path = os.path.join(data_dir, label)\n",
    "        class_num = labels.index(label)\n",
    "        for img in os.listdir(path):\n",
    "            try:\n",
    "                img_array = cv2.imread(os.path.join(path, img), cv2.IMREAD_GRAYSCALE)\n",
    "                new_array = cv2.resize(img_array, (IMG_SIZE, IMG_SIZE))\n",
    "                data.append([new_array, class_num])\n",
    "            except Exception as e:\n",
    "                print(e)\n",
    "    return np.array(data)"
   ]
  },
  {
   "cell_type": "code",
   "execution_count": 7,
   "metadata": {},
   "outputs": [
    {
     "name": "stderr",
     "output_type": "stream",
     "text": [
      "<ipython-input-6-78ec5a29af5d>:15: VisibleDeprecationWarning: Creating an ndarray from ragged nested sequences (which is a list-or-tuple of lists-or-tuples-or ndarrays with different lengths or shapes) is deprecated. If you meant to do this, you must specify 'dtype=object' when creating the ndarray\n",
      "  return np.array(data)\n"
     ]
    }
   ],
   "source": [
    "train = get_data_train(train_folder)\n",
    "test = get_data_train(test_folder)\n",
    "val = get_data_train(val_folder)"
   ]
  },
  {
   "cell_type": "code",
   "execution_count": 8,
   "metadata": {},
   "outputs": [
    {
     "name": "stderr",
     "output_type": "stream",
     "text": [
      "C:\\Users\\chand\\anaconda3\\envs\\deeplearning\\lib\\site-packages\\seaborn\\_decorators.py:36: FutureWarning: Pass the following variable as a keyword arg: x. From version 0.12, the only valid positional argument will be `data`, and passing other arguments without an explicit keyword will result in an error or misinterpretation.\n",
      "  warnings.warn(\n"
     ]
    },
    {
     "data": {
      "text/plain": [
       "<AxesSubplot:ylabel='count'>"
      ]
     },
     "execution_count": 8,
     "metadata": {},
     "output_type": "execute_result"
    },
    {
     "data": {
      "image/png": "[encoded data removed]",
      "text/plain": [
       "<Figure size 432x288 with 1 Axes>"
      ]
     },
     "metadata": {
      "needs_background": "light"
     },
     "output_type": "display_data"
    }
   ],
   "source": [
    "l = []\n",
    "for i in train:\n",
    "    if(i[1] == 0):\n",
    "        l.append(\"Normal\")\n",
    "    else:\n",
    "        l.append(\"Pneumonia\")\n",
    "        \n",
    "sns.countplot(l)"
   ]
  },
  {
   "cell_type": "code",
   "execution_count": 9,
   "metadata": {},
   "outputs": [],
   "source": [
    "X_train = []\n",
    "y_train = []\n",
    "\n",
    "X_val = []\n",
    "y_val = []\n",
    "\n",
    "X_test = []\n",
    "y_test = []\n",
    "\n",
    "for feature, label in train:\n",
    "    X_train.append(feature)\n",
    "    y_train.append(label)\n",
    "\n",
    "for feature, label in test:\n",
    "    X_test.append(feature)\n",
    "    y_test.append(label)\n",
    "    \n",
    "for feature, label in val:\n",
    "    X_val.append(feature)\n",
    "    y_val.append(label)"
   ]
  },
  {
   "cell_type": "markdown",
   "metadata": {},
   "source": [
    "## Noramalization"
   ]
  },
  {
   "cell_type": "code",
   "execution_count": 10,
   "metadata": {},
   "outputs": [],
   "source": [
    "X_train = np.array(X_train) / 255\n",
    "X_val = np.array(X_val) / 255\n",
    "X_test = np.array(X_test) / 255"
   ]
  },
  {
   "cell_type": "code",
   "execution_count": 11,
   "metadata": {},
   "outputs": [
    {
     "data": {
      "text/plain": [
       "(5840, 50, 50)"
      ]
     },
     "execution_count": 11,
     "metadata": {},
     "output_type": "execute_result"
    }
   ],
   "source": [
    "X_test.shape"
   ]
  },
  {
   "cell_type": "markdown",
   "metadata": {},
   "source": [
    "## reshape train, test and validation"
   ]
  },
  {
   "cell_type": "code",
   "execution_count": 12,
   "metadata": {},
   "outputs": [],
   "source": [
    "X_train = X_train.reshape(-1, IMG_SIZE, IMG_SIZE, 1)\n",
    "y_train = np.array(y_train)\n",
    "\n",
    "X_val = X_val.reshape(-1, IMG_SIZE, IMG_SIZE, 1)\n",
    "y_val = np.array(y_val)\n",
    "\n",
    "X_test = X_test.reshape(-1, IMG_SIZE, IMG_SIZE, 1)\n",
    "y_test = np.array(y_test)"
   ]
  },
  {
   "cell_type": "code",
   "execution_count": 13,
   "metadata": {},
   "outputs": [
    {
     "data": {
      "text/plain": [
       "(5840, 50, 50, 1)"
      ]
     },
     "execution_count": 13,
     "metadata": {},
     "output_type": "execute_result"
    }
   ],
   "source": [
    "X_test.shape"
   ]
  },
  {
   "cell_type": "markdown",
   "metadata": {},
   "source": [
    "## Load important packages"
   ]
  },
  {
   "cell_type": "code",
   "execution_count": 14,
   "metadata": {},
   "outputs": [],
   "source": [
    "import tensorflow as tf\n",
    "from tensorflow.keras.layers import Flatten, Conv2D, Activation, Dense, Dropout, MaxPooling2D\n",
    "from tensorflow.keras.models import Sequential"
   ]
  },
  {
   "cell_type": "markdown",
   "metadata": {},
   "source": [
    "## Training the Model"
   ]
  },
  {
   "cell_type": "code",
   "execution_count": 15,
   "metadata": {},
   "outputs": [
    {
     "name": "stdout",
     "output_type": "stream",
     "text": [
      "Epoch 1/25\n",
      "163/163 [==============================] - 22s 126ms/step - loss: 0.4683 - accuracy: 0.7823 - val_loss: 0.1909 - val_accuracy: 0.9267\n",
      "Epoch 2/25\n",
      "163/163 [==============================] - 18s 108ms/step - loss: 0.1661 - accuracy: 0.9380 - val_loss: 0.1657 - val_accuracy: 0.9442\n",
      "Epoch 3/25\n",
      "163/163 [==============================] - 18s 109ms/step - loss: 0.1040 - accuracy: 0.9614 - val_loss: 0.1595 - val_accuracy: 0.9493\n",
      "Epoch 4/25\n",
      "163/163 [==============================] - 18s 112ms/step - loss: 0.0887 - accuracy: 0.9633 - val_loss: 0.1368 - val_accuracy: 0.9547\n",
      "Epoch 5/25\n",
      "163/163 [==============================] - 18s 111ms/step - loss: 0.0841 - accuracy: 0.9694 - val_loss: 0.1724 - val_accuracy: 0.9520\n",
      "Epoch 6/25\n",
      "163/163 [==============================] - 19s 115ms/step - loss: 0.0848 - accuracy: 0.9690 - val_loss: 0.1316 - val_accuracy: 0.9575\n",
      "Epoch 7/25\n",
      "163/163 [==============================] - 19s 117ms/step - loss: 0.0704 - accuracy: 0.9757 - val_loss: 0.1700 - val_accuracy: 0.9617\n",
      "Epoch 8/25\n",
      "163/163 [==============================] - 18s 110ms/step - loss: 0.0767 - accuracy: 0.9706 - val_loss: 0.1446 - val_accuracy: 0.9619\n",
      "Epoch 9/25\n",
      "163/163 [==============================] - 17s 104ms/step - loss: 0.0552 - accuracy: 0.9774 - val_loss: 0.1379 - val_accuracy: 0.9643\n",
      "Epoch 10/25\n",
      "163/163 [==============================] - 19s 119ms/step - loss: 0.0449 - accuracy: 0.9815 - val_loss: 0.1268 - val_accuracy: 0.9628\n",
      "Epoch 11/25\n",
      "163/163 [==============================] - 17s 107ms/step - loss: 0.0547 - accuracy: 0.9801 - val_loss: 0.1730 - val_accuracy: 0.9641\n",
      "Epoch 12/25\n",
      "163/163 [==============================] - 18s 114ms/step - loss: 0.0475 - accuracy: 0.9807 - val_loss: 0.1441 - val_accuracy: 0.9558\n",
      "Epoch 13/25\n",
      "163/163 [==============================] - 20s 121ms/step - loss: 0.0571 - accuracy: 0.9802 - val_loss: 0.1543 - val_accuracy: 0.9611\n",
      "Epoch 14/25\n",
      "163/163 [==============================] - 20s 123ms/step - loss: 0.0339 - accuracy: 0.9865 - val_loss: 0.1569 - val_accuracy: 0.9694\n",
      "Epoch 15/25\n",
      "163/163 [==============================] - 19s 114ms/step - loss: 0.0383 - accuracy: 0.9853 - val_loss: 0.1657 - val_accuracy: 0.9703\n",
      "Epoch 16/25\n",
      "163/163 [==============================] - 18s 113ms/step - loss: 0.0301 - accuracy: 0.9890 - val_loss: 0.1501 - val_accuracy: 0.9691\n",
      "Epoch 17/25\n",
      "163/163 [==============================] - 18s 111ms/step - loss: 0.0252 - accuracy: 0.9909 - val_loss: 0.1656 - val_accuracy: 0.9720\n",
      "Epoch 18/25\n",
      "163/163 [==============================] - 17s 104ms/step - loss: 0.0229 - accuracy: 0.9923 - val_loss: 0.2144 - val_accuracy: 0.9670\n",
      "Epoch 19/25\n",
      "163/163 [==============================] - 19s 120ms/step - loss: 0.0256 - accuracy: 0.9895 - val_loss: 0.1906 - val_accuracy: 0.9725\n",
      "Epoch 20/25\n",
      "163/163 [==============================] - 18s 109ms/step - loss: 0.0208 - accuracy: 0.9927 - val_loss: 0.1864 - val_accuracy: 0.9732\n",
      "Epoch 21/25\n",
      "163/163 [==============================] - 17s 106ms/step - loss: 0.0197 - accuracy: 0.9919 - val_loss: 0.1748 - val_accuracy: 0.9699\n",
      "Epoch 22/25\n",
      "163/163 [==============================] - 17s 104ms/step - loss: 0.0207 - accuracy: 0.9936 - val_loss: 0.1810 - val_accuracy: 0.9754\n",
      "Epoch 23/25\n",
      "163/163 [==============================] - 17s 105ms/step - loss: 0.0201 - accuracy: 0.9921 - val_loss: 0.1783 - val_accuracy: 0.9717\n",
      "Epoch 24/25\n",
      "163/163 [==============================] - 17s 105ms/step - loss: 0.0217 - accuracy: 0.9909 - val_loss: 0.1852 - val_accuracy: 0.9706\n",
      "Epoch 25/25\n",
      "163/163 [==============================] - 17s 107ms/step - loss: 0.0313 - accuracy: 0.9895 - val_loss: 0.2099 - val_accuracy: 0.9735\n",
      "183/183 [==============================] - 4s 19ms/step - loss: 0.2095 - accuracy: 0.9738\n"
     ]
    }
   ],
   "source": [
    "model = Sequential()\n",
    "\n",
    "model.add(Conv2D(32, (3, 3), padding=\"same\", input_shape=X_train.shape[1:]))\n",
    "model.add(Activation(\"relu\"))\n",
    "model.add(MaxPooling2D(2, 2))\n",
    "model.add(Dropout(0.2))\n",
    "\n",
    "model.add(Conv2D(64, (3, 3), padding=\"same\"))\n",
    "model.add(Activation(\"relu\"))\n",
    "model.add(MaxPooling2D(2, 2))\n",
    "model.add(Dropout(0.2))\n",
    "\n",
    "model.add(Conv2D(128, (3, 3), padding=\"same\"))\n",
    "model.add(Activation(\"relu\"))\n",
    "model.add(MaxPooling2D(2, 2))\n",
    "model.add(Dropout(0.2))\n",
    "\n",
    "model.add(Flatten())\n",
    "model.add(Dense(128, activation=\"relu\"))\n",
    "\n",
    "model.add(Dense(1))\n",
    "model.add(Activation(\"sigmoid\"))\n",
    "\n",
    "model.compile(loss=\"binary_crossentropy\", optimizer=\"adam\", metrics=[\"accuracy\"])\n",
    "history = model.fit(X_train, y_train, epochs=25, validation_data=(X_val, y_val), shuffle=True)\n",
    "scores = model.evaluate(X_test, y_test)\n",
    "\n",
    "#model.save(\"cnn.model\")\n",
    "model.save('model.h5')"
   ]
  },
  {
   "cell_type": "code",
   "execution_count": 16,
   "metadata": {},
   "outputs": [
    {
     "name": "stdout",
     "output_type": "stream",
     "text": [
      "Test loss is ===>  20.94939947128296 %\n",
      "Test accuracy is ===>  97.38013744354248 %\n"
     ]
    }
   ],
   "source": [
    "# scores\n",
    "print(\"Test loss is ===>  {} %\".format(scores[0]*100))\n",
    "print(\"Test accuracy is ===>  {} %\".format(scores[1]*100))"
   ]
  },
  {
   "cell_type": "code",
   "execution_count": 17,
   "metadata": {},
   "outputs": [
    {
     "data": {
      "image/png": "[encoded data removed]",
      "text/plain": [
       "<Figure size 432x288 with 1 Axes>"
      ]
     },
     "metadata": {
      "needs_background": "light"
     },
     "output_type": "display_data"
    },
    {
     "data": {
      "image/png": "[encoded data removed]",
      "text/plain": [
       "<Figure size 432x288 with 1 Axes>"
      ]
     },
     "metadata": {
      "needs_background": "light"
     },
     "output_type": "display_data"
    }
   ],
   "source": [
    "# visualization\n",
    "\n",
    "import matplotlib.pyplot as plt\n",
    "accuracy = history.history['accuracy']\n",
    "val_accuracy = history.history['val_accuracy']\n",
    "loss = history.history['loss']\n",
    "val_loss = history.history['val_loss']\n",
    "epochs = range(len(accuracy))\n",
    "\n",
    "plt.plot(epochs, accuracy, \"b\", label=\"trainning accuracy\")\n",
    "plt.plot(epochs, val_accuracy, \"r\", label=\"validation accuracy\")\n",
    "plt.legend()\n",
    "plt.show()\n",
    "\n",
    "plt.plot(epochs, loss, \"b\", label=\"trainning loss\")\n",
    "plt.plot(epochs, val_loss, \"r\", label=\"validation loss\")\n",
    "plt.legend()\n",
    "plt.show()"
   ]
  },
  {
   "cell_type": "code",
   "execution_count": 18,
   "metadata": {},
   "outputs": [
    {
     "name": "stderr",
     "output_type": "stream",
     "text": [
      "C:\\Users\\chand\\anaconda3\\envs\\deeplearning\\lib\\site-packages\\tensorflow\\python\\keras\\engine\\sequential.py:450: UserWarning: `model.predict_classes()` is deprecated and will be removed after 2021-01-01. Please use instead:* `np.argmax(model.predict(x), axis=-1)`,   if your model does multi-class classification   (e.g. if it uses a `softmax` last-layer activation).* `(model.predict(x) > 0.5).astype(\"int32\")`,   if your model does binary classification   (e.g. if it uses a `sigmoid` last-layer activation).\n",
      "  warnings.warn('`model.predict_classes()` is deprecated and '\n"
     ]
    },
    {
     "data": {
      "text/plain": [
       "array([0, 0, 0, 0, 0, 0, 0, 0, 0, 0, 0, 0, 0, 0, 0])"
      ]
     },
     "execution_count": 18,
     "metadata": {},
     "output_type": "execute_result"
    }
   ],
   "source": [
    "# predict classes\n",
    "\n",
    "prediction = model.predict_classes(X_test)\n",
    "prediction = prediction.reshape(1, -1)[0]\n",
    "prediction[:15]"
   ]
  },
  {
   "cell_type": "code",
   "execution_count": 19,
   "metadata": {},
   "outputs": [],
   "source": [
    "# correct and incorrect\n",
    "# you can check tensorflow website\n",
    "\n",
    "correct = np.nonzero(prediction == y_test)[0]\n",
    "incorrect = np.nonzero(prediction != y_test)[0]"
   ]
  },
  {
   "cell_type": "markdown",
   "metadata": {},
   "source": [
    "## some correct Visualize "
   ]
  },
  {
   "cell_type": "code",
   "execution_count": 20,
   "metadata": {},
   "outputs": [
    {
     "data": {
      "image/png": "[encoded data removed]",
      "text/plain": [
       "<Figure size 432x288 with 6 Axes>"
      ]
     },
     "metadata": {},
     "output_type": "display_data"
    }
   ],
   "source": [
    "j = 0\n",
    "for i in correct[:6]:\n",
    "    plt.subplot(3,3,j+1)\n",
    "    plt.xticks([])\n",
    "    plt.yticks([])\n",
    "    plt.imshow(X_test[i].reshape(50,50), cmap=\"gray\", interpolation='none')\n",
    "    plt.title(\"Predicted Class {},\\nActual Class {}\".format(prediction[i], y_test[i]))\n",
    "    plt.xlabel(labels[prediction[i]])\n",
    "    plt.tight_layout()\n",
    "    j += 1"
   ]
  },
  {
   "cell_type": "markdown",
   "metadata": {},
   "source": [
    "## Some incorrect visualization "
   ]
  },
  {
   "cell_type": "code",
   "execution_count": 21,
   "metadata": {},
   "outputs": [
    {
     "data": {
      "image/png": "[encoded data removed]",
      "text/plain": [
       "<Figure size 432x288 with 6 Axes>"
      ]
     },
     "metadata": {},
     "output_type": "display_data"
    }
   ],
   "source": [
    "j = 0\n",
    "for i in incorrect[:6]:\n",
    "    plt.subplot(3,3,j+1)\n",
    "    plt.xticks([])\n",
    "    plt.yticks([])\n",
    "    plt.imshow(X_test[i].reshape(50,50), cmap=\"gray\", interpolation='none')\n",
    "    plt.title(\"Predicted Class {},\\nActual Class {}\".format(prediction[i], y_test[i]))\n",
    "    plt.xlabel(labels[prediction[i]])\n",
    "    plt.tight_layout()\n",
    "    j += 1"
   ]
  },
  {
   "cell_type": "markdown",
   "metadata": {},
   "source": [
    "## Loading Saved Model"
   ]
  },
  {
   "cell_type": "code",
   "execution_count": 2,
   "metadata": {},
   "outputs": [],
   "source": [
    "# load model and predict some some external photo\n",
    "import tensorflow as tf\n",
    "import cv2\n",
    "from PIL import Image\n",
    "import matplotlib.pyplot as plt\n",
    "IMG_SIZE = 50\n",
    "labels = [\"NORMAL\", \"PNEUMONIA\"]\n",
    "def prepare(filepath):\n",
    "    img_array = cv2.imread(filepath, cv2.IMREAD_GRAYSCALE)\n",
    "    new_array = cv2.resize(img_array, (IMG_SIZE, IMG_SIZE))\n",
    "    return new_array.reshape(-1, IMG_SIZE, IMG_SIZE, 1)\n",
    "\n",
    "model = tf.keras.models.load_model(\"model.h5\") # load model"
   ]
  },
  {
   "cell_type": "code",
   "execution_count": 3,
   "metadata": {},
   "outputs": [
    {
     "name": "stdout",
     "output_type": "stream",
     "text": [
      "PNEUMONIA\n"
     ]
    }
   ],
   "source": [
    "# extra pneumonia photo from google\n",
    "prediction = model.predict([prepare(\"C:/Users/chand/Desktop/major project/17810_23812_bundle_archive/chest_xray/images/google image.jpg\")])\n",
    "print(labels[int(prediction[0])]) "
   ]
  },
  {
   "cell_type": "code",
   "execution_count": 4,
   "metadata": {},
   "outputs": [
    {
     "name": "stdout",
     "output_type": "stream",
     "text": [
      "PNEUMONIA\n"
     ]
    }
   ],
   "source": [
    "# extra pneumonia photo from google\n",
    "prediction = model.predict([prepare(\"C:/Users/chand/Desktop/major project/17810_23812_bundle_archive/chest_xray/images/person1_virus_7.jpeg\")])\n",
    "print(labels[int(prediction[0])])"
   ]
  },
  {
   "cell_type": "code",
   "execution_count": 5,
   "metadata": {},
   "outputs": [
    {
     "name": "stdout",
     "output_type": "stream",
     "text": [
      "PNEUMONIA\n"
     ]
    }
   ],
   "source": [
    "# extra pneumonia photo from google\n",
    "prediction = model.predict([prepare(\"C:/Users/chand/Desktop/major project/17810_23812_bundle_archive/chest_xray/images/NORMAL2-IM-0350-0001.jpeg\")])\n",
    "print(labels[int(prediction[0])])"
   ]
  },
  {
   "cell_type": "code",
   "execution_count": 6,
   "metadata": {},
   "outputs": [
    {
     "name": "stdout",
     "output_type": "stream",
     "text": [
      "NORMAL\n"
     ]
    }
   ],
   "source": [
    "# extra pneumonia photo from google\n",
    "prediction = model.predict([prepare(\"C:/Users/chand/Desktop/major project/17810_23812_bundle_archive/chest_xray/test/NORMAL/NORMAL2-IM-0323-0001.jpeg\")])\n",
    "#plt.imshow(prediction[0].reshape(5,5), cmap=\"gray\", interpolation='none')\n",
    "print(labels[int(prediction[0])])"
   ]
  },
  {
   "cell_type": "code",
   "execution_count": 7,
   "metadata": {},
   "outputs": [
    {
     "name": "stdout",
     "output_type": "stream",
     "text": [
      "PNEUMONIA\n"
     ]
    }
   ],
   "source": [
    "# extra pneumonia photo from google\n",
    "prediction = model.predict([prepare(\"C:/Users/chand/Desktop/major project/17810_23812_bundle_archive/chest_xray/test/PNEUMONIA/person101_bacteria_486.jpeg\")])\n",
    "#plt.imshow(X_test[i].reshape(50,50), cmap=\"gray\", interpolation='none')\n",
    "print(labels[int(prediction[0])])"
   ]
  },
  {
   "cell_type": "code",
   "execution_count": 8,
   "metadata": {},
   "outputs": [
    {
     "name": "stdout",
     "output_type": "stream",
     "text": [
      "PNEUMONIA\n"
     ]
    }
   ],
   "source": [
    "# extra pneumonia photo from google\n",
    "prediction = model.predict([prepare(\"C:/Users/chand/Desktop/major project/17810_23812_bundle_archive/chest_xray/images/download.jpg\")])\n",
    "#plt.imshow(X_test[i].reshape(50,50), cmap=\"gray\", interpolation='none')\n",
    "print(labels[int(prediction[0])])"
   ]
  },
  {
   "cell_type": "code",
   "execution_count": 9,
   "metadata": {},
   "outputs": [
    {
     "name": "stdout",
     "output_type": "stream",
     "text": [
      "PNEUMONIA\n"
     ]
    }
   ],
   "source": [
    "# extra pneumonia photo from google\n",
    "prediction = model.predict([prepare(\"C:/Users/chand/Desktop/major project/17810_23812_bundle_archive/chest_xray/images/person154_bacteria_728.jpeg\")])\n",
    "#plt.imshow(X_test[i].reshape(50,50), cmap=\"gray\", interpolation='none')\n",
    "print(labels[int(prediction[0])])"
   ]
  },
  {
   "cell_type": "code",
   "execution_count": 10,
   "metadata": {},
   "outputs": [
    {
     "name": "stdout",
     "output_type": "stream",
     "text": [
      "PNEUMONIA\n"
     ]
    }
   ],
   "source": [
    "# extra pneumonia photo from google\n",
    "prediction = model.predict([prepare(\"C:/Users/chand/Desktop/major project/17810_23812_bundle_archive/chest_xray/images/person119_bacteria_567.jpeg\")])\n",
    "#plt.imshow(X_test[i].reshape(50,50), cmap=\"gray\", interpolation='none')\n",
    "print(labels[int(prediction[0])])"
   ]
  },
  {
   "cell_type": "code",
   "execution_count": 1,
   "metadata": {},
   "outputs": [
    {
     "name": "stdout",
     "output_type": "stream",
     "text": [
      "Overwriting templates/index.html\n"
     ]
    }
   ],
   "source": [
    "%%writefile templates/index.html\n",
    "\n",
    "<html>\n",
    "<head>\n",
    "<meta name=\"viewport\" content=\"width=device-width, initial-scale=1\">\n",
    "<style>\n",
    "body{\n",
    "       background-image: url(\"https://cdn.wallpapersafari.com/12/55/IRJb1c.jpg\");\n",
    "       background-repeat: no-repeat;\n",
    "       background-attachment: fixed;\n",
    "       background-size: 100% 100%;\n",
    "     }\n",
    "    \n",
    "    h1{\n",
    "        color:red;\n",
    "    font-size: 45px;\n",
    "    }\n",
    "    \n",
    "   .center {\n",
    "            margin: auto;\n",
    "            width: 70%;\n",
    "            padding: 50px;\n",
    "            position:absolute; \n",
    "            left:490px;\n",
    "            top:145px;\n",
    "            color:white;\n",
    "           }\n",
    "    h3{\n",
    "        font-size: 30px;\n",
    "        color: lightblue;\n",
    "        display: block;\n",
    "        margin-block-start: 1em;\n",
    "        margin-block-end: 1em;\n",
    "        margin-inline-start: 150px;\n",
    "        margin-inline-end: 0px;\n",
    "        font-weight: bold;\n",
    "      }\n",
    "    \n",
    "    p{\n",
    "        color:white;\n",
    "        font-size:35px;\n",
    "    }\n",
    "\n",
    "</style>\n",
    "\n",
    "</head>\n",
    "   <body>\n",
    "      <form action = \"http://localhost:5000/uploader\" method = \"POST\" enctype = \"multipart/form-data\">\n",
    "        <center><h1> Pnemonia Detection Using Chest X-Ray Images </h1></center>\n",
    "        <center><p> Upload X-Ray Image</p></center>\n",
    "        <div class=\"center\">\n",
    "         <input type = \"file\" name = \"file\" />\n",
    "         <input type = \"submit\" value=\"Predict\"/>\n",
    "         <br><br>\n",
    "         <img src=\"{{url_for('static',filename = filen)}}\" alt=\"Pneumonia X-Ray Image\" width=\"455\" height=\"265\"/>\n",
    "         <br><br>\n",
    "         <h3>{{prediction}}</h3>\n",
    "        </div>\n",
    "      </form>\n",
    "   </body>\n",
    "</html>"
   ]
  },
  {
   "cell_type": "code",
   "execution_count": 2,
   "metadata": {},
   "outputs": [
    {
     "name": "stdout",
     "output_type": "stream",
     "text": [
      "Overwriting app.py\n"
     ]
    }
   ],
   "source": [
    "%%writefile app.py\n",
    "\n",
    "from flask import Flask, render_template, request, redirect, url_for\n",
    "from werkzeug.utils import secure_filename\n",
    "import os\n",
    "import tensorflow as tf\n",
    "import numpy as np\n",
    "import pandas as pd\n",
    "from flask import Flask, render_template, request\n",
    "import cv2\n",
    "from PIL import Image\n",
    "import matplotlib.pyplot as plt\n",
    "app = Flask(__name__)\n",
    "IMG_SIZE = 50\n",
    "model = tf.keras.models.load_model(\"model.h5\")\n",
    "labels = [\"NORMAL\", \"PNEUMONIA\"]\n",
    "app.config['UPLOAD_FOLDER'] = 'C:/Users/chand/Desktop/major project/Pneumonia Detection (Accuracy = 97%)/static/uploads/'\n",
    "\n",
    "def prepare(filepath):\n",
    "    img_array = cv2.imread(filepath, cv2.IMREAD_GRAYSCALE)\n",
    "    new_array = cv2.resize(img_array, (IMG_SIZE, IMG_SIZE))\n",
    "    return new_array.reshape(-1, IMG_SIZE, IMG_SIZE, 1)\n",
    "\n",
    "@app.route('/upload')\n",
    "def index():\n",
    "    return render_template('index.html')\n",
    "\n",
    "@app.route('/uploader', methods = [\"GET\",\"POST\"])\n",
    "def getimage():\n",
    "    if request.method == \"POST\":\n",
    "        file = request.files['file']\n",
    "        file.save(os.path.join(app.config['UPLOAD_FOLDER'],secure_filename(file.filename)))\n",
    "        filename = secure_filename(file.filename)\n",
    "        filepath=\"\"\n",
    "        for root, dirs, files in os.walk(r\"\\Users\\chand\\Desktop\\major project\\17810_23812_bundle_archive\"):\n",
    "            for name in files:\n",
    "                if name == filename:\n",
    "                    filepath=os.path.abspath(os.path.join(root,filename))\n",
    "        prediction = model.predict([prepare(filepath)])\n",
    "        output = labels[int(prediction[0])]\n",
    "        return render_template('index.html',filen=\"uploads/\"+filename,prediction=output)\n",
    "\n",
    "app.run(debug=True)"
   ]
  },
  {
   "cell_type": "code",
   "execution_count": null,
   "metadata": {},
   "outputs": [],
   "source": [
    "!python app.py"
   ]
  },
  {
   "cell_type": "code",
   "execution_count": null,
   "metadata": {},
   "outputs": [],
   "source": []
  }
 ],
 "metadata": {
  "kernelspec": {
   "display_name": "Python 3",
   "language": "python",
   "name": "python3"
  },
  "language_info": {
   "codemirror_mode": {
    "name": "ipython",
    "version": 3
   },
   "file_extension": ".py",
   "mimetype": "text/x-python",
   "name": "python",
   "nbconvert_exporter": "python",
   "pygments_lexer": "ipython3",
   "version": "3.8.5"
  }
 },
 "nbformat": 4,
 "nbformat_minor": 4
}
